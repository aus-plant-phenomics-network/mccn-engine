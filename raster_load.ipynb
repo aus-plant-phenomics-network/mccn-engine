{
 "cells": [
  {
   "cell_type": "code",
   "execution_count": 1,
   "metadata": {},
   "outputs": [],
   "source": [
    "from mccn.client import MCCN\n",
    "import pandas as pd\n",
    "\n",
    "# ENDPOINT = \"http://203.101.230.81:8082\"\n",
    "ENDPOINT = \"generated/collection.json\""
   ]
  },
  {
   "cell_type": "code",
   "execution_count": 91,
   "metadata": {},
   "outputs": [
    {
     "data": {
      "text/html": [
       "<div>\n",
       "<style scoped>\n",
       "    .dataframe tbody tr th:only-of-type {\n",
       "        vertical-align: middle;\n",
       "    }\n",
       "\n",
       "    .dataframe tbody tr th {\n",
       "        vertical-align: top;\n",
       "    }\n",
       "\n",
       "    .dataframe thead th {\n",
       "        text-align: right;\n",
       "    }\n",
       "</style>\n",
       "<table border=\"1\" class=\"dataframe\">\n",
       "  <thead>\n",
       "    <tr style=\"text-align: right;\">\n",
       "      <th></th>\n",
       "      <th>latitude</th>\n",
       "      <th>longitude</th>\n",
       "      <th>moisture</th>\n",
       "      <th>elevation_m</th>\n",
       "      <th>yield_t_ha</th>\n",
       "    </tr>\n",
       "  </thead>\n",
       "  <tbody>\n",
       "    <tr>\n",
       "      <th>0</th>\n",
       "      <td>-30.263928</td>\n",
       "      <td>149.860396</td>\n",
       "      <td>0.0</td>\n",
       "      <td>245.60784</td>\n",
       "      <td>2.816659</td>\n",
       "    </tr>\n",
       "    <tr>\n",
       "      <th>1</th>\n",
       "      <td>-30.263928</td>\n",
       "      <td>149.860395</td>\n",
       "      <td>0.0</td>\n",
       "      <td>245.57736</td>\n",
       "      <td>0.193452</td>\n",
       "    </tr>\n",
       "    <tr>\n",
       "      <th>2</th>\n",
       "      <td>-30.263926</td>\n",
       "      <td>149.860391</td>\n",
       "      <td>0.0</td>\n",
       "      <td>245.57736</td>\n",
       "      <td>0.547192</td>\n",
       "    </tr>\n",
       "    <tr>\n",
       "      <th>3</th>\n",
       "      <td>-30.263924</td>\n",
       "      <td>149.860387</td>\n",
       "      <td>0.0</td>\n",
       "      <td>245.57736</td>\n",
       "      <td>0.670937</td>\n",
       "    </tr>\n",
       "    <tr>\n",
       "      <th>4</th>\n",
       "      <td>-30.263921</td>\n",
       "      <td>149.860382</td>\n",
       "      <td>0.0</td>\n",
       "      <td>245.57736</td>\n",
       "      <td>0.599533</td>\n",
       "    </tr>\n",
       "  </tbody>\n",
       "</table>\n",
       "</div>"
      ],
      "text/plain": [
       "    latitude   longitude  moisture  elevation_m  yield_t_ha\n",
       "0 -30.263928  149.860396       0.0    245.60784    2.816659\n",
       "1 -30.263928  149.860395       0.0    245.57736    0.193452\n",
       "2 -30.263926  149.860391       0.0    245.57736    0.547192\n",
       "3 -30.263924  149.860387       0.0    245.57736    0.670937\n",
       "4 -30.263921  149.860382       0.0    245.57736    0.599533"
      ]
     },
     "execution_count": 91,
     "metadata": {},
     "output_type": "execute_result"
    }
   ],
   "source": [
    "engine = MCCN(ENDPOINT, \"llara_campey_point\", 100, use_z=True, interp=None)\n",
    "geobox = engine.geobox\n",
    "type(geobox.coords)\n",
    "coords = pd.DataFrame(\n",
    "    {\n",
    "        \"latitude\": geobox.coords[\"latitude\"].values,\n",
    "        \"longitude\": geobox.coords[\"longitude\"].values,\n",
    "    }\n",
    ")\n",
    "df = pd.read_csv(engine.point_loader.items[0].location)\n",
    "df.head()"
   ]
  },
  {
   "cell_type": "code",
   "execution_count": 89,
   "metadata": {},
   "outputs": [
    {
     "data": {
      "text/plain": [
       "<duckdb.duckdb.DuckDBPyConnection at 0x7fdc51ed92b0>"
      ]
     },
     "execution_count": 89,
     "metadata": {},
     "output_type": "execute_result"
    }
   ],
   "source": [
    "import duckdb\n",
    "\n",
    "conn = duckdb.connect()\n",
    "conn.register(\"coords\", coords)\n",
    "conn.register(\"data_table\", df)"
   ]
  },
  {
   "cell_type": "code",
   "execution_count": 96,
   "metadata": {},
   "outputs": [
    {
     "data": {
      "text/html": [
       "<div>\n",
       "<style scoped>\n",
       "    .dataframe tbody tr th:only-of-type {\n",
       "        vertical-align: middle;\n",
       "    }\n",
       "\n",
       "    .dataframe tbody tr th {\n",
       "        vertical-align: top;\n",
       "    }\n",
       "\n",
       "    .dataframe thead th {\n",
       "        text-align: right;\n",
       "    }\n",
       "</style>\n",
       "<table border=\"1\" class=\"dataframe\">\n",
       "  <thead>\n",
       "    <tr style=\"text-align: right;\">\n",
       "      <th></th>\n",
       "      <th>x</th>\n",
       "      <th>y</th>\n",
       "      <th>z</th>\n",
       "      <th>mean_moisture</th>\n",
       "      <th>mean_yield</th>\n",
       "    </tr>\n",
       "  </thead>\n",
       "  <tbody>\n",
       "    <tr>\n",
       "      <th>0</th>\n",
       "      <td>-30.255395</td>\n",
       "      <td>149.859562</td>\n",
       "      <td>245.60784</td>\n",
       "      <td>9.541667</td>\n",
       "      <td>0.915036</td>\n",
       "    </tr>\n",
       "    <tr>\n",
       "      <th>1</th>\n",
       "      <td>-30.255395</td>\n",
       "      <td>149.859562</td>\n",
       "      <td>245.24208</td>\n",
       "      <td>10.443750</td>\n",
       "      <td>1.404535</td>\n",
       "    </tr>\n",
       "    <tr>\n",
       "      <th>2</th>\n",
       "      <td>-30.255395</td>\n",
       "      <td>149.859562</td>\n",
       "      <td>244.66296</td>\n",
       "      <td>10.852273</td>\n",
       "      <td>1.142728</td>\n",
       "    </tr>\n",
       "    <tr>\n",
       "      <th>3</th>\n",
       "      <td>-30.255395</td>\n",
       "      <td>149.859562</td>\n",
       "      <td>244.11432</td>\n",
       "      <td>10.166667</td>\n",
       "      <td>0.431707</td>\n",
       "    </tr>\n",
       "    <tr>\n",
       "      <th>4</th>\n",
       "      <td>-30.255660</td>\n",
       "      <td>149.859988</td>\n",
       "      <td>245.15064</td>\n",
       "      <td>10.800000</td>\n",
       "      <td>1.329794</td>\n",
       "    </tr>\n",
       "    <tr>\n",
       "      <th>...</th>\n",
       "      <td>...</td>\n",
       "      <td>...</td>\n",
       "      <td>...</td>\n",
       "      <td>...</td>\n",
       "      <td>...</td>\n",
       "    </tr>\n",
       "    <tr>\n",
       "      <th>6395</th>\n",
       "      <td>-30.281595</td>\n",
       "      <td>149.901733</td>\n",
       "      <td>244.51056</td>\n",
       "      <td>10.940426</td>\n",
       "      <td>0.693979</td>\n",
       "    </tr>\n",
       "    <tr>\n",
       "      <th>6396</th>\n",
       "      <td>-30.281595</td>\n",
       "      <td>149.901733</td>\n",
       "      <td>244.38864</td>\n",
       "      <td>10.222581</td>\n",
       "      <td>0.477046</td>\n",
       "    </tr>\n",
       "    <tr>\n",
       "      <th>6397</th>\n",
       "      <td>-30.281595</td>\n",
       "      <td>149.901733</td>\n",
       "      <td>244.14480</td>\n",
       "      <td>10.110526</td>\n",
       "      <td>0.342836</td>\n",
       "    </tr>\n",
       "    <tr>\n",
       "      <th>6398</th>\n",
       "      <td>-30.281595</td>\n",
       "      <td>149.901733</td>\n",
       "      <td>245.82120</td>\n",
       "      <td>11.177778</td>\n",
       "      <td>1.757664</td>\n",
       "    </tr>\n",
       "    <tr>\n",
       "      <th>6399</th>\n",
       "      <td>-30.281595</td>\n",
       "      <td>149.901733</td>\n",
       "      <td>245.85168</td>\n",
       "      <td>11.900000</td>\n",
       "      <td>1.822198</td>\n",
       "    </tr>\n",
       "  </tbody>\n",
       "</table>\n",
       "<p>6400 rows × 5 columns</p>\n",
       "</div>"
      ],
      "text/plain": [
       "              x           y          z  mean_moisture  mean_yield\n",
       "0    -30.255395  149.859562  245.60784       9.541667    0.915036\n",
       "1    -30.255395  149.859562  245.24208      10.443750    1.404535\n",
       "2    -30.255395  149.859562  244.66296      10.852273    1.142728\n",
       "3    -30.255395  149.859562  244.11432      10.166667    0.431707\n",
       "4    -30.255660  149.859988  245.15064      10.800000    1.329794\n",
       "...         ...         ...        ...            ...         ...\n",
       "6395 -30.281595  149.901733  244.51056      10.940426    0.693979\n",
       "6396 -30.281595  149.901733  244.38864      10.222581    0.477046\n",
       "6397 -30.281595  149.901733  244.14480      10.110526    0.342836\n",
       "6398 -30.281595  149.901733  245.82120      11.177778    1.757664\n",
       "6399 -30.281595  149.901733  245.85168      11.900000    1.822198\n",
       "\n",
       "[6400 rows x 5 columns]"
      ]
     },
     "execution_count": 96,
     "metadata": {},
     "output_type": "execute_result"
    }
   ],
   "source": [
    "query = \"\"\"\n",
    "WITH distances AS (\n",
    "    SELECT\n",
    "        *,\n",
    "        coords.latitude as x1,\n",
    "        coords.longitude as y1,\n",
    "        data_table.latitude as x2,\n",
    "        data_table.longitude as y2,\n",
    "        data_table.elevation_m as z,\n",
    "        sqrt(pow(x1 - x2, 2) + pow(y1 - y2, 2)) AS distance\n",
    "    FROM coords\n",
    "    CROSS JOIN data_table\n",
    ")\n",
    "SELECT\n",
    "    distances.x1 as x,\n",
    "    distances.y1 as y, \n",
    "    distances.z as z,\n",
    "    avg(moisture) as mean_moisture,\n",
    "    avg(yield_t_ha) as mean_yield\n",
    "FROM distances where distance <= ?\n",
    "GROUP BY x, y, z\n",
    "\"\"\"\n",
    "\n",
    "# Execute query and fetch results\n",
    "result = conn.execute(query, [2]).fetchdf()\n",
    "result"
   ]
  },
  {
   "cell_type": "code",
   "execution_count": 104,
   "metadata": {},
   "outputs": [],
   "source": [
    "from dataclasses import dataclass\n",
    "\n",
    "\n",
    "@dataclass\n",
    "class User:\n",
    "    name: str\n",
    "    email: str\n",
    "\n",
    "\n",
    "class UserBuilder(dict):\n",
    "    def set_name(self, name):\n",
    "        self[\"name\"] = name\n",
    "        return self\n",
    "\n",
    "    def set_email(self, email):\n",
    "        self[\"email\"] = email\n",
    "        return self\n",
    "\n",
    "    def build(self):\n",
    "        return User(**self)"
   ]
  },
  {
   "cell_type": "code",
   "execution_count": 105,
   "metadata": {},
   "outputs": [],
   "source": [
    "builder = UserBuilder()"
   ]
  },
  {
   "cell_type": "code",
   "execution_count": 106,
   "metadata": {},
   "outputs": [
    {
     "data": {
      "text/plain": [
       "{'name': 'Son', 'email': 'lehoangsonsg@gmail.com'}"
      ]
     },
     "execution_count": 106,
     "metadata": {},
     "output_type": "execute_result"
    }
   ],
   "source": [
    "builder.set_name(\"Son\").set_email(\"lehoangsonsg@gmail.com\")"
   ]
  },
  {
   "cell_type": "code",
   "execution_count": 108,
   "metadata": {},
   "outputs": [
    {
     "data": {
      "text/plain": [
       "User(name='Son', email='lehoangsonsg@gmail.com')"
      ]
     },
     "execution_count": 108,
     "metadata": {},
     "output_type": "execute_result"
    }
   ],
   "source": [
    "builder.build()"
   ]
  },
  {
   "cell_type": "code",
   "execution_count": 109,
   "metadata": {},
   "outputs": [],
   "source": [
    "from enum import Enum\n",
    "\n",
    "\n",
    "class EE(Enum):\n",
    "    a = \"A\"\n",
    "    b = \"B\""
   ]
  },
  {
   "cell_type": "code",
   "execution_count": 127,
   "metadata": {},
   "outputs": [
    {
     "data": {
      "text/plain": [
       "<EE.a: 'A'>"
      ]
     },
     "execution_count": 127,
     "metadata": {},
     "output_type": "execute_result"
    }
   ],
   "source": [
    "EE[\"a\"]"
   ]
  },
  {
   "cell_type": "code",
   "execution_count": null,
   "metadata": {},
   "outputs": [],
   "source": []
  }
 ],
 "metadata": {
  "kernelspec": {
   "display_name": ".venv",
   "language": "python",
   "name": "python3"
  },
  "language_info": {
   "codemirror_mode": {
    "name": "ipython",
    "version": 3
   },
   "file_extension": ".py",
   "mimetype": "text/x-python",
   "name": "python",
   "nbconvert_exporter": "python",
   "pygments_lexer": "ipython3",
   "version": "3.11.8"
  }
 },
 "nbformat": 4,
 "nbformat_minor": 2
}
